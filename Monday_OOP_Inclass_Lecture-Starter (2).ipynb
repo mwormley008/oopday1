{
 "cells": [
  {
   "cell_type": "markdown",
   "metadata": {},
   "source": [
    "# Object-Oriented-Programming (OOP)"
   ]
  },
  {
   "cell_type": "markdown",
   "metadata": {},
   "source": [
    "## Tasks Today:\n",
    "\n",
    "   \n",
    "\n",
    "1) <b>Creating a Class (Initializing/Declaring)</b> <br>\n",
    "2) <b>Using a Class (Instantiating)</b> <br>\n",
    " &nbsp;&nbsp;&nbsp;&nbsp; a) Creating One Instance <br>\n",
    " &nbsp;&nbsp;&nbsp;&nbsp; b) Creating Multiple Instances <br>\n",
    " &nbsp;&nbsp;&nbsp;&nbsp; c) In-Class Exercise #1 - Create a Class 'Car' and instantiate three different makes of cars <br>\n",
    "3) <b>The \\__init\\__() Method</b> <br>\n",
    " &nbsp;&nbsp;&nbsp;&nbsp; a) The 'self' Attribute <br>\n",
    "4) <b>Class Attributes</b> <br>\n",
    " &nbsp;&nbsp;&nbsp;&nbsp; a) Initializing Attributes <br>\n",
    " &nbsp;&nbsp;&nbsp;&nbsp; b) Setting an Attribute Outside of the \\__init\\__() Method <br>\n",
    " &nbsp;&nbsp;&nbsp;&nbsp; c) Setting Defaults for Attributes <br>\n",
    " &nbsp;&nbsp;&nbsp;&nbsp; d) Accessing Class Attributes <br>\n",
    " &nbsp;&nbsp;&nbsp;&nbsp; e) Changing Class Attributes <br>\n",
    " &nbsp;&nbsp;&nbsp;&nbsp; f) In-Class Exercise #2 - Update your 'Car' class with \\__init\\__() method and class attributes<br>\n",
    "5) <b>Class Methods</b> <br>\n",
    " &nbsp;&nbsp;&nbsp;&nbsp; a) Creating <br>\n",
    " &nbsp;&nbsp;&nbsp;&nbsp; b) Calling <br>\n",
    " &nbsp;&nbsp;&nbsp;&nbsp; c) Modifying an Attribute's Value Through a Method <br>\n",
    " &nbsp;&nbsp;&nbsp;&nbsp; d) Incrementing an Attribute's Value Through a Method <br>\n",
    " &nbsp;&nbsp;&nbsp;&nbsp; e) In-Class Exercise #3 - Update Car class with new methods <br>\n",
    "6) <b>Classes as Attributes</b> <br>\n",
    "8) <b>Exercises</b> <br>\n",
    " &nbsp;&nbsp;&nbsp;&nbsp; a) Exercise #1 - Turn the shopping cart program from yesterday into an object-oriented program <br>\n",
    "  &nbsp;&nbsp;&nbsp;&nbsp; a) Exercise #2 - Create an Animal class with Eat, Sleep, and Play methods <br>"
   ]
  },
  {
   "cell_type": "code",
   "execution_count": null,
   "metadata": {},
   "outputs": [],
   "source": []
  },
  {
   "cell_type": "markdown",
   "metadata": {},
   "source": [
    "#### Object-Oriented Programming"
   ]
  },
  {
   "cell_type": "markdown",
   "metadata": {},
   "source": [
    "Object-Oriented Programming (OOP) allows us to create programs so that that properties and behaviors are bundled into **objects**. OOP models real-world entities as software objects that have some data associated with them and can perform certain functions."
   ]
  },
  {
   "cell_type": "markdown",
   "metadata": {},
   "source": [
    "## Creating a Class (Initializing/Declaring)\n",
    "<p>When creating a class, function, or even a variable you are initializing that object. Initializing and Declaring occur at the same time in Python, whereas in lower level languages you have to declare an object before initializing it. This is the first step in the process of using a class.</p>"
   ]
  },
  {
   "cell_type": "code",
   "execution_count": 2,
   "metadata": {},
   "outputs": [
    {
     "name": "stdout",
     "output_type": "stream",
     "text": [
      "<class 'str'>\n",
      "<class 'list'>\n",
      "<class 'function'>\n"
     ]
    }
   ],
   "source": [
    "name = 'Brian'\n",
    "print(type(name))\n",
    "\n",
    "my_list = [1, 2, 3, 4]\n",
    "print(type(my_list))\n",
    "\n",
    "def my_func(x):\n",
    "    pass\n",
    "\n",
    "print(type(my_func))\n"
   ]
  },
  {
   "cell_type": "code",
   "execution_count": 10,
   "metadata": {},
   "outputs": [
    {
     "name": "stdout",
     "output_type": "stream",
     "text": [
      "Help on class Student in module __main__:\n",
      "\n",
      "class Student(builtins.object)\n",
      " |  Data descriptors defined here:\n",
      " |  \n",
      " |  __dict__\n",
      " |      dictionary for instance variables (if defined)\n",
      " |  \n",
      " |  __weakref__\n",
      " |      list of weak references to the object (if defined)\n",
      "\n"
     ]
    }
   ],
   "source": [
    "# Syntax : class ClassName(): or class ClassName: *always capitalize our class names! pep8 guidelines\n",
    "\n",
    "class Student():\n",
    "    pass\n",
    "\n",
    "help(Student)"
   ]
  },
  {
   "cell_type": "code",
   "execution_count": 5,
   "metadata": {},
   "outputs": [
    {
     "name": "stdout",
     "output_type": "stream",
     "text": [
      "2282325797184\n",
      "2282325776256\n"
     ]
    }
   ],
   "source": [
    "# Create 2 instances of the list class\n",
    "a_list = [1, 2, 3, 4]\n",
    "b_list = [4, 3, 2, 1]\n",
    "\n",
    "print(id(a_list))\n",
    "print(id(b_list))\n"
   ]
  },
  {
   "cell_type": "code",
   "execution_count": 6,
   "metadata": {},
   "outputs": [
    {
     "name": "stdout",
     "output_type": "stream",
     "text": [
      "[1, 2, 3, 4]\n",
      "[4, 3, 2, 1]\n",
      "[1, 2, 3, 4, 100]\n",
      "[4, 3, 2, 1]\n"
     ]
    }
   ],
   "source": [
    "print(a_list)\n",
    "print(b_list)\n",
    "a_list.append(100)\n",
    "print(a_list)\n",
    "print(b_list)"
   ]
  },
  {
   "cell_type": "markdown",
   "metadata": {},
   "source": [
    "## Using a Class (Instantiating)\n",
    "<p>The process of creating a class is called <i>Instantiating</i>. Each time you create a variable of that type of class, it is referred to as an <i>Instance</i> of that class. This is the second step in the process of using a class.</p>"
   ]
  },
  {
   "cell_type": "markdown",
   "metadata": {},
   "source": [
    "##### Creating One Instance"
   ]
  },
  {
   "cell_type": "code",
   "execution_count": 16,
   "metadata": {},
   "outputs": [
    {
     "name": "stdout",
     "output_type": "stream",
     "text": [
      "<__main__.Student object at 0x000002136538EAC0>\n"
     ]
    },
    {
     "data": {
      "text/plain": [
       "<__main__.Student at 0x2136538eac0>"
      ]
     },
     "execution_count": 16,
     "metadata": {},
     "output_type": "execute_result"
    }
   ],
   "source": [
    "# Syntax: variable = ClassName()\n",
    "\n",
    "student1 = Student()\n",
    "\n",
    "print(student1)\n",
    "student1"
   ]
  },
  {
   "cell_type": "code",
   "execution_count": 13,
   "metadata": {},
   "outputs": [
    {
     "name": "stdout",
     "output_type": "stream",
     "text": [
      "<__main__.Student object at 0x0000021365333E80>\n",
      "<__main__.Student object at 0x000002136538E5B0>\n"
     ]
    }
   ],
   "source": [
    "student2 = Student()\n",
    "print(student2)\n",
    "\n",
    "student3 = Student()\n",
    "print(student3)"
   ]
  },
  {
   "cell_type": "code",
   "execution_count": 17,
   "metadata": {},
   "outputs": [
    {
     "name": "stdout",
     "output_type": "stream",
     "text": [
      "True\n"
     ]
    }
   ],
   "source": [
    "print(isinstance(student1, Student))"
   ]
  },
  {
   "cell_type": "markdown",
   "metadata": {},
   "source": [
    "##### Creating Multiple Instances"
   ]
  },
  {
   "cell_type": "code",
   "execution_count": null,
   "metadata": {},
   "outputs": [],
   "source": []
  },
  {
   "cell_type": "markdown",
   "metadata": {},
   "source": [
    "##### Adding attributes to instances"
   ]
  },
  {
   "cell_type": "code",
   "execution_count": 22,
   "metadata": {},
   "outputs": [
    {
     "name": "stdout",
     "output_type": "stream",
     "text": [
      "Student 1: {'first_name': 'John', 'last_name': 'Smith'}\n",
      "Student 2: {'first_name': 'Laura', 'last_name': 'Green'}\n"
     ]
    }
   ],
   "source": [
    "# Syntax: instance_var_name.attribute_name = value\n",
    "student1.first_name = 'John'\n",
    "student1.last_name = 'Smith'\n",
    "\n",
    "student2.first_name = 'Laura'\n",
    "student2.last_name = 'Green'\n",
    "\n",
    "print(f\"Student 1: {student1.__dict__}\")\n",
    "print(f\"Student 2: {student2.__dict__}\")"
   ]
  },
  {
   "cell_type": "code",
   "execution_count": 25,
   "metadata": {},
   "outputs": [
    {
     "name": "stdout",
     "output_type": "stream",
     "text": [
      "John\n",
      "Smith\n"
     ]
    }
   ],
   "source": [
    "# Syntax: instance_var_name.attribute_name\n",
    "\n",
    "print(student1.first_name)\n",
    "print(student1.last_name)"
   ]
  },
  {
   "cell_type": "code",
   "execution_count": 32,
   "metadata": {},
   "outputs": [],
   "source": [
    "student3.info = {\n",
    "    'age': 33,\n",
    "    'hometown': 'Chicago',\n",
    "    \n",
    "}"
   ]
  },
  {
   "cell_type": "code",
   "execution_count": 29,
   "metadata": {},
   "outputs": [
    {
     "name": "stdout",
     "output_type": "stream",
     "text": [
      "{'info': {'age': 33, 'hometomn': 'Chicago'}}\n"
     ]
    }
   ],
   "source": [
    "print(student3.__dict__)"
   ]
  },
  {
   "cell_type": "code",
   "execution_count": 33,
   "metadata": {},
   "outputs": [
    {
     "name": "stdout",
     "output_type": "stream",
     "text": [
      "Chicago\n"
     ]
    }
   ],
   "source": [
    "print(student3.info.get('hometown'))"
   ]
  },
  {
   "cell_type": "markdown",
   "metadata": {},
   "source": [
    "##### In-Class Exercise #1 - Create a Class 'Car' and Instantiate three different car instances. Add a different make for each car."
   ]
  },
  {
   "cell_type": "code",
   "execution_count": null,
   "metadata": {},
   "outputs": [],
   "source": [
    "class Car():\n",
    "    pass\n",
    "car1 = Car()\n",
    "car2 = Car()\n",
    "car3 = Car()\n",
    "\n",
    "car1.make = 'Honda'\n",
    "car2.make = 'Ford'\n",
    "car3.make = 'Toyota'"
   ]
  },
  {
   "cell_type": "markdown",
   "metadata": {},
   "source": [
    "## The \\__init\\__() Method <br>\n",
    "<p>This method is used in almost every created class, and called only once upon the creation of the class instance. This method will initialize all variables needed for the object.</p>"
   ]
  },
  {
   "cell_type": "markdown",
   "metadata": {},
   "source": [
    "##### The 'self' Attribute <br>\n",
    "<p>This attribute is required to keep track of specific instance's attributes. Without the self attribute, the program would not know how to reference or keep track of an instance's attributes.</p>"
   ]
  },
  {
   "cell_type": "code",
   "execution_count": 34,
   "metadata": {},
   "outputs": [],
   "source": [
    "class Student:\n",
    "    pass\n",
    "\n",
    "def create_student(first, last, teacher):\n",
    "    student_instance = Student()\n",
    "    student_instance.first_name = first\n",
    "    student_instance.last_name = last\n",
    "    student_instance.teacher = teacher\n",
    "    return student_instance"
   ]
  },
  {
   "cell_type": "code",
   "execution_count": 35,
   "metadata": {},
   "outputs": [
    {
     "name": "stdout",
     "output_type": "stream",
     "text": [
      "<__main__.Student object at 0x000002136533CE80>\n"
     ]
    }
   ],
   "source": [
    "new_student1 = create_student(\"Michael\", \"Williams\", \"Mrs. Lock\")\n",
    "print(new_student1)"
   ]
  },
  {
   "cell_type": "code",
   "execution_count": 37,
   "metadata": {},
   "outputs": [
    {
     "name": "stdout",
     "output_type": "stream",
     "text": [
      "{'first_name': 'Michael', 'last_name': 'Williams', 'teacher': 'Mrs. Lock'}\n"
     ]
    }
   ],
   "source": [
    "print(new_student1.__dict__)\n"
   ]
  },
  {
   "cell_type": "code",
   "execution_count": 38,
   "metadata": {},
   "outputs": [
    {
     "data": {
      "text/plain": [
       "'Mrs. Lock'"
      ]
     },
     "execution_count": 38,
     "metadata": {},
     "output_type": "execute_result"
    }
   ],
   "source": [
    "new_student1.teacher"
   ]
  },
  {
   "cell_type": "code",
   "execution_count": 41,
   "metadata": {},
   "outputs": [
    {
     "name": "stdout",
     "output_type": "stream",
     "text": [
      "BRIAN stanton\n"
     ]
    },
    {
     "data": {
      "text/plain": [
       "True"
      ]
     },
     "execution_count": 41,
     "metadata": {},
     "output_type": "execute_result"
    }
   ],
   "source": [
    "name1 = 'brian'\n",
    "name2= 'stanton'\n",
    "print(name1.upper(), name2)\n",
    "\n",
    "str.upper(name1) == name1.upper()"
   ]
  },
  {
   "cell_type": "code",
   "execution_count": 43,
   "metadata": {},
   "outputs": [
    {
     "name": "stdout",
     "output_type": "stream",
     "text": [
      "<__main__.Student object at 0x000002136538E0D0>\n"
     ]
    }
   ],
   "source": [
    "def create_student_like_init(self, first, last, teacher):\n",
    "    self.first_name = first\n",
    "    self.last_name = last\n",
    "    self.teacher = teacher\n",
    "    \n",
    "    return self\n",
    "\n",
    "new_student2 = create_student_like_init(Student(), 'Ally', 'Allerton', 'Mr. Al')\n",
    "print(new_student2)"
   ]
  },
  {
   "cell_type": "code",
   "execution_count": 46,
   "metadata": {},
   "outputs": [
    {
     "name": "stdout",
     "output_type": "stream",
     "text": [
      "Hello, I am creating a new student!\n",
      "self: <__main__.Student object at 0x000002136533C880>\n"
     ]
    }
   ],
   "source": [
    "class Student:\n",
    "    def __init__(self, first, last, teacher):\n",
    "        print('Hello, I am creating a new student!')\n",
    "        print('self:', self)\n",
    "        self.first_name = first\n",
    "        self.last_name = last\n",
    "        self.teacher = teacher\n",
    "        \n",
    "# Syntax for creating new instances:\n",
    "# instance_var = ClassName(arg1, arg2, etc,)\n",
    "\n",
    "new_student3 = Student('Ellen', 'Mitchell', 'Mrs. Zoibel')"
   ]
  },
  {
   "cell_type": "code",
   "execution_count": null,
   "metadata": {},
   "outputs": [],
   "source": []
  },
  {
   "cell_type": "code",
   "execution_count": 47,
   "metadata": {},
   "outputs": [
    {
     "name": "stdout",
     "output_type": "stream",
     "text": [
      "{'name': 'Buddy', 'species': 'Dog'}\n",
      "{'name': 'Leo', 'species': 'Lion'}\n"
     ]
    }
   ],
   "source": [
    "class Animal:\n",
    "    def __init__(self, name, species='Dog'):\n",
    "        self.name = name\n",
    "        self.species = species\n",
    "        \n",
    "buddy = Animal('Buddy')\n",
    "print(buddy.__dict__)\n",
    "\n",
    "leo = Animal('Leo', 'Lion')\n",
    "print(leo.__dict__)\n"
   ]
  },
  {
   "cell_type": "markdown",
   "metadata": {},
   "source": [
    "## Class Attributes <br>\n",
    "<p>While variables are inside of a class, they are referred to as attributes and not variables. When someone says 'attribute' you know they're speaking about a class. Attributes can be initialized through the init method, or outside of it.</p>"
   ]
  },
  {
   "cell_type": "markdown",
   "metadata": {},
   "source": [
    "##### Initializing Attributes"
   ]
  },
  {
   "cell_type": "code",
   "execution_count": 51,
   "metadata": {},
   "outputs": [
    {
     "name": "stdout",
     "output_type": "stream",
     "text": [
      "{'color': 'green', 'make': 'Ford'}\n",
      "{'color': 'blue', 'make': 'Chevy'}\n",
      "4\n"
     ]
    }
   ],
   "source": [
    "class Truck:\n",
    "    wheels = 4 # Class attribute\n",
    "    \n",
    "    def __init__(self, color, make):\n",
    "        self.color = color #instance attribute\n",
    "        self.make = make # Instance attribute\n",
    "        \n",
    "truck1 = Truck('green', 'Ford')\n",
    "truck2 = Truck('blue', 'Chevy')\n",
    "print(truck1.__dict__)\n",
    "print(truck2.__dict__)\n",
    "print(truck1.wheels)"
   ]
  },
  {
   "cell_type": "markdown",
   "metadata": {},
   "source": [
    "##### Accessing Class Attributes"
   ]
  },
  {
   "cell_type": "code",
   "execution_count": null,
   "metadata": {
    "scrolled": true
   },
   "outputs": [],
   "source": [
    "# See Above"
   ]
  },
  {
   "cell_type": "markdown",
   "metadata": {},
   "source": [
    "##### Setting Defaults for Attributes"
   ]
  },
  {
   "cell_type": "code",
   "execution_count": null,
   "metadata": {},
   "outputs": [],
   "source": []
  },
  {
   "cell_type": "markdown",
   "metadata": {},
   "source": [
    "##### Changing Class Attributes <br>\n",
    "<p>Keep in mind there are global class attributes and then there are attributes only available to each class instance which won't effect other classes.</p>"
   ]
  },
  {
   "cell_type": "code",
   "execution_count": null,
   "metadata": {},
   "outputs": [],
   "source": []
  },
  {
   "cell_type": "code",
   "execution_count": null,
   "metadata": {},
   "outputs": [],
   "source": []
  },
  {
   "cell_type": "code",
   "execution_count": null,
   "metadata": {},
   "outputs": [],
   "source": []
  },
  {
   "cell_type": "markdown",
   "metadata": {},
   "source": [
    "##### In-Class Exercise 2 - Create an \\__init__ method for your Car class which takes in color and model with a default value for gas_level of 100. Your class should also have a class attribute for model. Once you have created the class, instantiate 3 different cars"
   ]
  },
  {
   "cell_type": "code",
   "execution_count": 67,
   "metadata": {},
   "outputs": [
    {
     "name": "stdout",
     "output_type": "stream",
     "text": [
      "{'model': 'toyota', 'color': 'blue', 'gas_level': 100}\n",
      "100\n",
      "I have a blue\n"
     ]
    }
   ],
   "source": [
    "class Car:\n",
    "#     gas_level = 100\n",
    "    def __init__(self, color, model, gas_level=100):\n",
    "        self.model = model # Instance attribute\n",
    "        self.color = color # Instance attribute\n",
    "        self.gas_level = gas_level\n",
    "        \n",
    "car1 = Car(\"blue\", \"toyota\")\n",
    "print(car1.__dict__)\n",
    "print(car1.gas_level)\n",
    "print(f\"I have a {car1.color} {car1.}\")"
   ]
  },
  {
   "cell_type": "markdown",
   "metadata": {},
   "source": [
    "## Class Methods <br>\n",
    "<p>While inside of a class, functions are referred to as 'methods'. If you hear someone mention methods, they're speaking about classes. Methods are essentially functions, but only callable on the instances of a class.</p>"
   ]
  },
  {
   "cell_type": "markdown",
   "metadata": {},
   "source": [
    "##### Creating"
   ]
  },
  {
   "cell_type": "code",
   "execution_count": 82,
   "metadata": {},
   "outputs": [],
   "source": [
    "# Syntax: class ClassName():\n",
    "#             def method_name(self, param1, param2, etc):\n",
    "#                     code to run when called\n",
    "\n",
    "class Employee:\n",
    "    raise_amount = 1.05 # Class attrubitue to raise saray 5%\n",
    "    \n",
    "    def __init__(self, first, last, salary):\n",
    "        self.first_name = first\n",
    "        self.last_name = last\n",
    "        self.salary = salary\n",
    "        self.email = first.lower() + '.' + last.lower() + '@company.org'\n",
    "        \n",
    "    def get_full_name(self):\n",
    "        print(self)\n",
    "        return self.first_name + ' ' + self.last_name\n",
    "    \n",
    "    def get_full_name(self):\n",
    "        return self.first_name + ' ' + self.last_name\n",
    "\n",
    "    def change_last_name(self, new_last_name):\n",
    "        self.last_name = new_last_name\n",
    "        self.email = self.first_name.lower() + '.' + new_last_name.lower() + \"@company.org\"\n",
    "    \n",
    "    def apply_raise(self):\n",
    "        self.salary *= self.raise_amount\n",
    "        print(f\"Congats {self.get_full_name()}, you have received a raise and your new salary is {self.salary}\")\n",
    "    \n",
    "    \n",
    "emp_1 = Employee('Charlie', 'Bucket', 100000)\n",
    "emp_2 = Employee('Veruca', 'Salt', 50000)"
   ]
  },
  {
   "cell_type": "code",
   "execution_count": 69,
   "metadata": {},
   "outputs": [
    {
     "data": {
      "text/plain": [
       "'Charlie Bucket'"
      ]
     },
     "execution_count": 69,
     "metadata": {},
     "output_type": "execute_result"
    }
   ],
   "source": [
    "def get_full_name(employee_instance):\n",
    "    return employee_instance.first_name + ' ' + employee_instance.last_name\n",
    "\n",
    "get_full_name(emp_1)"
   ]
  },
  {
   "cell_type": "markdown",
   "metadata": {},
   "source": [
    "##### Calling"
   ]
  },
  {
   "cell_type": "code",
   "execution_count": 72,
   "metadata": {},
   "outputs": [
    {
     "name": "stdout",
     "output_type": "stream",
     "text": [
      "<__main__.Employee object at 0x000002136538EF10>\n"
     ]
    },
    {
     "data": {
      "text/plain": [
       "'Charlie Bucket'"
      ]
     },
     "execution_count": 72,
     "metadata": {},
     "output_type": "execute_result"
    }
   ],
   "source": [
    "# Syntax : instance_var.method_name() OR instance_var.method_name(arg1, etc.)\n",
    "\n",
    "emp_1.get_full_name()"
   ]
  },
  {
   "cell_type": "code",
   "execution_count": 74,
   "metadata": {},
   "outputs": [
    {
     "name": "stdout",
     "output_type": "stream",
     "text": [
      "<__main__.Employee object at 0x000002136538E910>\n",
      "<__main__.Employee object at 0x000002136538EF10>\n"
     ]
    },
    {
     "data": {
      "text/plain": [
       "'Charlie Bucket'"
      ]
     },
     "execution_count": 74,
     "metadata": {},
     "output_type": "execute_result"
    }
   ],
   "source": [
    "emp_2.get_full_name()\n",
    "\n",
    "Employee.get_full_name(emp_1)\n"
   ]
  },
  {
   "cell_type": "markdown",
   "metadata": {},
   "source": [
    "##### Modifying an Attribute's Value Through a Method"
   ]
  },
  {
   "cell_type": "code",
   "execution_count": 76,
   "metadata": {},
   "outputs": [
    {
     "name": "stdout",
     "output_type": "stream",
     "text": [
      "<__main__.Employee object at 0x000002136538EF10>\n",
      "Charlie Wonka charlie.wonka@company.org\n",
      "<__main__.Employee object at 0x000002136538EF10>\n",
      "Charlie Wonka charlie.wonka@company.org\n"
     ]
    }
   ],
   "source": [
    "def change_last_name(employee_instance, new_last_name):\n",
    "    employee_instance.last_name = new_last_name\n",
    "    employee_instance.email = employee_instance.first_name.lower() + '.' + new_last_name.lower() + \"@company.org\"\n",
    "    \n",
    "print(emp_1.get_full_name(), emp_1.email)\n",
    "\n",
    "change_last_name(emp_1, 'Wonka')\n",
    "\n",
    "print(emp_1.get_full_name(), emp_1.email)"
   ]
  },
  {
   "cell_type": "code",
   "execution_count": 79,
   "metadata": {},
   "outputs": [
    {
     "name": "stdout",
     "output_type": "stream",
     "text": [
      "Charlie Bucket charlie.bucket@company.org\n",
      "Charlie Wonka charlie.wonka@company.org\n"
     ]
    }
   ],
   "source": [
    "    \n",
    "print(emp_1.get_full_name(), emp_1.email)\n",
    "\n",
    "change_last_name(emp_1, 'Wonka')\n",
    "\n",
    "print(emp_1.get_full_name(), emp_1.email)"
   ]
  },
  {
   "cell_type": "markdown",
   "metadata": {},
   "source": [
    "##### Incrementing an Attribute's Value Through a Method"
   ]
  },
  {
   "cell_type": "code",
   "execution_count": null,
   "metadata": {},
   "outputs": [],
   "source": [
    "def apply_raise(self)):\n",
    "    self.salary *= self.raise_amount\n",
    "    print(f\"Congats {self.get_full_name()}, you have received a raise and your new salary is {self.salary}\")"
   ]
  },
  {
   "cell_type": "code",
   "execution_count": 85,
   "metadata": {},
   "outputs": [
    {
     "name": "stdout",
     "output_type": "stream",
     "text": [
      "110250.0\n",
      "Congats Charlie Bucket, you have received a raise and your new salary is 115762.5\n",
      "55000.00000000001\n",
      "Congats Veruca Salt, you have received a raise and your new salary is 60500.000000000015\n"
     ]
    }
   ],
   "source": [
    "print(emp_1.salary)\n",
    "emp_1.apply_raise()\n",
    "\n",
    "print(emp_2.salary)\n",
    "emp_2.raise_amount = 1.10 # Setting an instance attribute of raise_amount to 1.10\n",
    "\n",
    "emp_2.apply_raise()"
   ]
  },
  {
   "cell_type": "markdown",
   "metadata": {},
   "source": [
    "##### In-Class Exercise #3 - Add two methods to your car class. One method called `drive` that will take in the number of miles and decrease that car's `gas_level` by 1 unit for every 5 miles. Another method called `fill_up` will take in gallons and increase the `gas_level` by 10 units for every gallon."
   ]
  },
  {
   "cell_type": "code",
   "execution_count": 96,
   "metadata": {},
   "outputs": [
    {
     "name": "stdout",
     "output_type": "stream",
     "text": [
      "vroom vroom\n",
      "Your Civic's gas level is now 96\n",
      "Your Accord's gas level is now 50\n",
      "glug glug glug\n",
      "Your Accord's gas level is now 100\n"
     ]
    }
   ],
   "source": [
    "class Car:\n",
    "    make = 'Honda'\n",
    "\n",
    "    def __init__(self, color, model, gas_level=100):\n",
    "        self.model = model # Instance attribute\n",
    "        self.color = color # Instance attribute\n",
    "        self.gas_level = gas_level\n",
    "        \n",
    "    def drive(self, distance):\n",
    "        print(\"vroom vroom\")\n",
    "        self.gas_level -= distance // 5\n",
    "        print(f\"Your {self.model}'s gas level is now {self.gas_level}\")\n",
    "        \n",
    "    def fill_up(self, gallons):\n",
    "        print(f\"Your {self.model}'s gas level is now {self.gas_level}\")\n",
    "        print(\"glug glug glug\")\n",
    "        self.gas_level += 10 * gallons\n",
    "        print(f\"Your {self.model}'s gas level is now {self.gas_level}\")\n",
    "\n",
    "        \n",
    "car1 = Car('red', 'Civic')\n",
    "car2 = Car('green', 'Accord', 50)\n",
    "car3 = Car('orange', 'CRV', 75)\n",
    "\n",
    "car1.drive(20)\n",
    "car2.fill_up(5)"
   ]
  },
  {
   "cell_type": "markdown",
   "metadata": {},
   "source": [
    "## Classes as Attributes <br>\n",
    "<p>Classes can also be used as attributes within another class. This is useful in situations where you need to keep variables locally stored, instead of globally stored.</p>"
   ]
  },
  {
   "cell_type": "code",
   "execution_count": null,
   "metadata": {},
   "outputs": [],
   "source": []
  },
  {
   "cell_type": "code",
   "execution_count": null,
   "metadata": {},
   "outputs": [],
   "source": []
  },
  {
   "cell_type": "code",
   "execution_count": null,
   "metadata": {},
   "outputs": [],
   "source": []
  },
  {
   "cell_type": "markdown",
   "metadata": {},
   "source": [
    "# Exercises"
   ]
  },
  {
   "cell_type": "markdown",
   "metadata": {},
   "source": [
    "### Exercise 1 - Turn the shopping cart program into an object-oriented program"
   ]
  },
  {
   "cell_type": "code",
   "execution_count": null,
   "metadata": {
    "collapsed": true
   },
   "outputs": [],
   "source": []
  },
  {
   "cell_type": "markdown",
   "metadata": {},
   "source": [
    "### Exercise 2 - Write a Python class for an Animal that has a name and energy attributes. The animal class should also have methods for eat, sleep, and play that will take in an integer and increase/decrease the energy of the animal with a formatted print statement"
   ]
  },
  {
   "cell_type": "code",
   "execution_count": 143,
   "metadata": {},
   "outputs": [
    {
     "name": "stdout",
     "output_type": "stream",
     "text": [
      "Welcome. What is your name? oeuao\n",
      "What would you like to do? Add/Remove/Cart/Quit add\n",
      "apple\n",
      "orange\n",
      "pineapple\n",
      "Type apple for apple, orange for orange, pineapple for pineapple.apple\n",
      "What would you like to do? Add/Remove/Cart/Quit quit\n",
      "{'customer_name': 'oeuao', 'cart': ['apple']}\n",
      "0\n",
      "None\n"
     ]
    }
   ],
   "source": [
    "# Create a class called cart that retains items and has methods to add, remove, and show\n",
    "\n",
    "class Cart():\n",
    "    \n",
    "    def __init__(self, customer_name):\n",
    "        self.customer_name = customer_name\n",
    "        self.cart = []\n",
    "        \n",
    "    def add_to_cart(self, new_item):\n",
    "        self.cart.append(new_item)\n",
    "    \n",
    "    def remove_from_cart(self, remove_item):\n",
    "        self.cart.remove(remove_item)\n",
    "    \n",
    "    def show_cart(self):\n",
    "        print(self.__dict__)\n",
    "        \n",
    "    def total_cart(self):\n",
    "        total = 0 ## Ask Brian if this is how I'm supposed to manage this local variable.\n",
    "        for item in self.cart[1::]:\n",
    "            total += item.price * item.quantity\n",
    "        print(total)\n",
    "\n",
    "class Product:\n",
    "    def __init__(self, name, quantity, price):\n",
    "        self.name = name\n",
    "        self.quantity = quantity\n",
    "        self.price = price\n",
    "        \n",
    "    def get_product_total(self):\n",
    "        return self.quantity * self.price\n",
    "    \n",
    "product1 = Product(\"apple\", 5, 4)\n",
    "product2 = Product(\"orange\", 2, 3)\n",
    "product3 = Product(\"pineapple\", 9, 10)\n",
    "  \n",
    "menu = [product1.name, product2.name, product3.name]\n",
    "    \n",
    "def run():\n",
    "    cust_name = input('Welcome. What is your name? ')\n",
    "    my_cart = Cart(cust_name)\n",
    "    while True:\n",
    "        ask = input('What would you like to do? Add/Remove/Cart/Quit ').lower()\n",
    "        if ask == 'quit':\n",
    "            break\n",
    "        elif ask == 'add':\n",
    "            for item in menu:\n",
    "                print(item)\n",
    "            ask = input(\"Type apple for apple, orange for orange, pineapple for pineapple.\")\n",
    "            item = ask    \n",
    "            my_cart.add_to_cart(ask)\n",
    "        elif ask == 'remove':\n",
    "            my_cart.show_cart()\n",
    "            ask = input(\"What would you like to remove?\")\n",
    "            my_cart.remove_from_cart(ask)\n",
    "        elif ask == \"cart\":\n",
    "            if my_cart:\n",
    "                my_cart.show_cart()\n",
    "            else:\n",
    "                print(\"Your cart is empty.\")\n",
    "    my_cart.show_cart()\n",
    "#     print(my_cart.total_cart())\n",
    "    \n",
    "run()"
   ]
  },
  {
   "cell_type": "code",
   "execution_count": null,
   "metadata": {},
   "outputs": [],
   "source": [
    "### Exercise 2 - Write a Python class for an Animal that has a name and energy attributes. The animal class should also have methods for eat, sleep, and play that will take in an integer and increase/decrease the energy of the animal with a formatted print statement\n",
    "\n"
   ]
  },
  {
   "cell_type": "code",
   "execution_count": null,
   "metadata": {},
   "outputs": [],
   "source": [
    "### Exercise 2 - Write a Python class for an Animal that has a name and energy attributes. \n",
    "The animal class should also have methods for eat, sleep, and play that will take in an integer and \n",
    "increase/decrease the energy of the animal with a formatted print statement"
   ]
  },
  {
   "cell_type": "code",
   "execution_count": 147,
   "metadata": {},
   "outputs": [
    {
     "name": "stdout",
     "output_type": "stream",
     "text": [
      "Buddy has played for 5 minutes. His energy is now 5\n",
      "Buddy has slept for 10 minutes. His energy is now 15\n"
     ]
    }
   ],
   "source": [
    "# Example 1\n",
    "\n",
    "class Animal:\n",
    "    \n",
    "    def __init__(self, name, energy):\n",
    "        self.name = name\n",
    "        self.energy = energy\n",
    "\n",
    "    def play(self, minutes):\n",
    "        self.energy -= minutes\n",
    "        print(f\"{self.name} has played for {minutes} minutes. His energy is now {self.energy}\")\n",
    "    def sleep(self, minutes):\n",
    "        self.energy += minutes\n",
    "        print(f\"{self.name} has slept for {minutes} minutes. His energy is now {self.energy}\")\n",
    "        \n",
    "buddy = Animal('Buddy', 10)\n",
    "buddy.play(5) # \"Buddy is playing for 5 minutes. His energy is now 5\"\n",
    "\n",
    "buddy.sleep(10) # \"Buddy is sleeping for 5 minutes. His energy is now 15\"\n"
   ]
  },
  {
   "cell_type": "code",
   "execution_count": null,
   "metadata": {},
   "outputs": [],
   "source": []
  }
 ],
 "metadata": {
  "kernelspec": {
   "display_name": "Python 3 (ipykernel)",
   "language": "python",
   "name": "python3"
  },
  "language_info": {
   "codemirror_mode": {
    "name": "ipython",
    "version": 3
   },
   "file_extension": ".py",
   "mimetype": "text/x-python",
   "name": "python",
   "nbconvert_exporter": "python",
   "pygments_lexer": "ipython3",
   "version": "3.9.13"
  }
 },
 "nbformat": 4,
 "nbformat_minor": 2
}
